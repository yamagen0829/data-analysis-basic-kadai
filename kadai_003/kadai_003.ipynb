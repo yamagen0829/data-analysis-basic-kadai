{
  "nbformat": 4,
  "nbformat_minor": 0,
  "metadata": {
    "colab": {
      "provenance": []
    },
    "kernelspec": {
      "name": "python3",
      "display_name": "Python 3"
    },
    "language_info": {
      "name": "python"
    }
  },
  "cells": [
    {
      "cell_type": "code",
      "execution_count": 11,
      "metadata": {
        "colab": {
          "base_uri": "https://localhost:8080/"
        },
        "id": "URmVOeozi22Z",
        "outputId": "62d34d8f-8754-4ef7-eefc-c84f8b67d8e0"
      },
      "outputs": [
        {
          "output_type": "execute_result",
          "data": {
            "text/plain": [
              "47"
            ]
          },
          "metadata": {},
          "execution_count": 11
        }
      ],
      "source": [
        "import numpy as np\n",
        "A = np.array([[0, 1], [2, 3],[4, 5]])\n",
        "B = np.array([[0, 1, 2, 3], [4, 5, 6, 7]])\n",
        "result = np.dot(A, B)\n",
        "result\n",
        "result.max()"
      ]
    }
  ]
}